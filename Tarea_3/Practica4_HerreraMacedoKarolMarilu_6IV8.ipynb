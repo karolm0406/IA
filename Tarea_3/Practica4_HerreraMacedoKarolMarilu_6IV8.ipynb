{
 "cells": [
  {
   "cell_type": "markdown",
   "id": "94b38086",
   "metadata": {},
   "source": [
    "## Práctica 4 IA Entrenamiento de red neuronal\n",
    "### HERRERA MACEDO KAROL MARILÚ 6IV8"
   ]
  },
  {
   "cell_type": "code",
   "execution_count": 12,
   "id": "2ea266ad",
   "metadata": {},
   "outputs": [],
   "source": [
    "#HERRERA MACEDO KAROL MARILU 6IV8\n",
    "import pandas as pd\n",
    "import matplotlib.pyplot as plt\n",
    "import numpy as np\n",
    "\n",
    "# Red neuronal secuencial\n",
    "from tensorflow.keras.models import Sequential\n",
    "# Capas completamente conectadas\n",
    "from tensorflow.keras.layers import Dense\n",
    "# Optimizador\n",
    "from tensorflow.keras.optimizers import Adam"
   ]
  },
  {
   "cell_type": "code",
   "execution_count": 2,
   "id": "ac6bae57",
   "metadata": {},
   "outputs": [
    {
     "name": "stdout",
     "output_type": "stream",
     "text": [
      "\n",
      "Información del dataset:\n",
      "<class 'pandas.core.frame.DataFrame'>\n",
      "RangeIndex: 768 entries, 0 to 767\n",
      "Data columns (total 9 columns):\n",
      " #   Column  Non-Null Count  Dtype  \n",
      "---  ------  --------------  -----  \n",
      " 0   0       768 non-null    int64  \n",
      " 1   1       768 non-null    int64  \n",
      " 2   2       768 non-null    int64  \n",
      " 3   3       768 non-null    int64  \n",
      " 4   4       768 non-null    int64  \n",
      " 5   5       768 non-null    float64\n",
      " 6   6       768 non-null    float64\n",
      " 7   7       768 non-null    int64  \n",
      " 8   8       768 non-null    int64  \n",
      "dtypes: float64(2), int64(7)\n",
      "memory usage: 54.1 KB\n"
     ]
    }
   ],
   "source": [
    "# Cargar datos ignorando la fila de encabezado\n",
    "data_df = pd.read_csv(\"diabetes.csv\", header=None, skiprows=1)\n",
    "# Convertir todas las columnas a numéricas (maneja errores como NaN)\n",
    "data_df = data_df.apply(pd.to_numeric, errors='coerce')\n",
    "# Eliminar filas con valores no convertidos (NaN)\n",
    "data_df = data_df.dropna()\n",
    "# Mostrar información del dataset\n",
    "print(\"\\nInformación del dataset:\")\n",
    "data_df.info()"
   ]
  },
  {
   "cell_type": "code",
   "execution_count": 3,
   "id": "18707358",
   "metadata": {},
   "outputs": [],
   "source": [
    "# Preparar datos\n",
    "X = data_df.iloc[:, 0:8].values.astype('float32')  # Primeras 8 columnas\n",
    "y = data_df.iloc[:, 8].values.astype('float32')    # Novena columna"
   ]
  },
  {
   "cell_type": "code",
   "execution_count": 4,
   "id": "b53cb590",
   "metadata": {},
   "outputs": [
    {
     "name": "stdout",
     "output_type": "stream",
     "text": [
      "\n",
      "Forma de X: (768, 8)\n",
      "Tipo de X: float32\n",
      "Forma de y: (768,)\n",
      "Tipo de y: float32\n"
     ]
    }
   ],
   "source": [
    "# Verificar dimensiones y tipos\n",
    "print(\"\\nForma de X:\", X.shape)\n",
    "print(\"Tipo de X:\", X.dtype)\n",
    "print(\"Forma de y:\", y.shape)\n",
    "print(\"Tipo de y:\", y.dtype)"
   ]
  },
  {
   "cell_type": "code",
   "execution_count": 5,
   "id": "7901cdbd",
   "metadata": {},
   "outputs": [
    {
     "name": "stderr",
     "output_type": "stream",
     "text": [
      "c:\\Users\\PC\\anaconda3\\Lib\\site-packages\\keras\\src\\layers\\core\\dense.py:93: UserWarning: Do not pass an `input_shape`/`input_dim` argument to a layer. When using Sequential models, prefer using an `Input(shape)` object as the first layer in the model instead.\n",
      "  super().__init__(activity_regularizer=activity_regularizer, **kwargs)\n"
     ]
    }
   ],
   "source": [
    "# Crear red neuronal\n",
    "model = Sequential()\n",
    "\n",
    "# Capa de entrada (12 neuronas) y primera capa oculta\n",
    "model.add(Dense(12, input_dim=8, activation='relu'))\n",
    "\n",
    "# Segunda capa oculta (8 neuronas)\n",
    "model.add(Dense(8, activation='relu'))\n",
    "\n",
    "# Capa de salida (1 neurona con activación sigmoide)\n",
    "model.add(Dense(1, activation='sigmoid'))"
   ]
  },
  {
   "cell_type": "code",
   "execution_count": 6,
   "id": "5f3ac645",
   "metadata": {},
   "outputs": [
    {
     "name": "stdout",
     "output_type": "stream",
     "text": [
      "\n",
      "Resumen del modelo:\n"
     ]
    },
    {
     "data": {
      "text/html": [
       "<pre style=\"white-space:pre;overflow-x:auto;line-height:normal;font-family:Menlo,'DejaVu Sans Mono',consolas,'Courier New',monospace\"><span style=\"font-weight: bold\">Model: \"sequential\"</span>\n",
       "</pre>\n"
      ],
      "text/plain": [
       "\u001b[1mModel: \"sequential\"\u001b[0m\n"
      ]
     },
     "metadata": {},
     "output_type": "display_data"
    },
    {
     "data": {
      "text/html": [
       "<pre style=\"white-space:pre;overflow-x:auto;line-height:normal;font-family:Menlo,'DejaVu Sans Mono',consolas,'Courier New',monospace\">┏━━━━━━━━━━━━━━━━━━━━━━━━━━━━━━━━━┳━━━━━━━━━━━━━━━━━━━━━━━━┳━━━━━━━━━━━━━━━┓\n",
       "┃<span style=\"font-weight: bold\"> Layer (type)                    </span>┃<span style=\"font-weight: bold\"> Output Shape           </span>┃<span style=\"font-weight: bold\">       Param # </span>┃\n",
       "┡━━━━━━━━━━━━━━━━━━━━━━━━━━━━━━━━━╇━━━━━━━━━━━━━━━━━━━━━━━━╇━━━━━━━━━━━━━━━┩\n",
       "│ dense (<span style=\"color: #0087ff; text-decoration-color: #0087ff\">Dense</span>)                   │ (<span style=\"color: #00d7ff; text-decoration-color: #00d7ff\">None</span>, <span style=\"color: #00af00; text-decoration-color: #00af00\">12</span>)             │           <span style=\"color: #00af00; text-decoration-color: #00af00\">108</span> │\n",
       "├─────────────────────────────────┼────────────────────────┼───────────────┤\n",
       "│ dense_1 (<span style=\"color: #0087ff; text-decoration-color: #0087ff\">Dense</span>)                 │ (<span style=\"color: #00d7ff; text-decoration-color: #00d7ff\">None</span>, <span style=\"color: #00af00; text-decoration-color: #00af00\">8</span>)              │           <span style=\"color: #00af00; text-decoration-color: #00af00\">104</span> │\n",
       "├─────────────────────────────────┼────────────────────────┼───────────────┤\n",
       "│ dense_2 (<span style=\"color: #0087ff; text-decoration-color: #0087ff\">Dense</span>)                 │ (<span style=\"color: #00d7ff; text-decoration-color: #00d7ff\">None</span>, <span style=\"color: #00af00; text-decoration-color: #00af00\">1</span>)              │             <span style=\"color: #00af00; text-decoration-color: #00af00\">9</span> │\n",
       "└─────────────────────────────────┴────────────────────────┴───────────────┘\n",
       "</pre>\n"
      ],
      "text/plain": [
       "┏━━━━━━━━━━━━━━━━━━━━━━━━━━━━━━━━━┳━━━━━━━━━━━━━━━━━━━━━━━━┳━━━━━━━━━━━━━━━┓\n",
       "┃\u001b[1m \u001b[0m\u001b[1mLayer (type)                   \u001b[0m\u001b[1m \u001b[0m┃\u001b[1m \u001b[0m\u001b[1mOutput Shape          \u001b[0m\u001b[1m \u001b[0m┃\u001b[1m \u001b[0m\u001b[1m      Param #\u001b[0m\u001b[1m \u001b[0m┃\n",
       "┡━━━━━━━━━━━━━━━━━━━━━━━━━━━━━━━━━╇━━━━━━━━━━━━━━━━━━━━━━━━╇━━━━━━━━━━━━━━━┩\n",
       "│ dense (\u001b[38;5;33mDense\u001b[0m)                   │ (\u001b[38;5;45mNone\u001b[0m, \u001b[38;5;34m12\u001b[0m)             │           \u001b[38;5;34m108\u001b[0m │\n",
       "├─────────────────────────────────┼────────────────────────┼───────────────┤\n",
       "│ dense_1 (\u001b[38;5;33mDense\u001b[0m)                 │ (\u001b[38;5;45mNone\u001b[0m, \u001b[38;5;34m8\u001b[0m)              │           \u001b[38;5;34m104\u001b[0m │\n",
       "├─────────────────────────────────┼────────────────────────┼───────────────┤\n",
       "│ dense_2 (\u001b[38;5;33mDense\u001b[0m)                 │ (\u001b[38;5;45mNone\u001b[0m, \u001b[38;5;34m1\u001b[0m)              │             \u001b[38;5;34m9\u001b[0m │\n",
       "└─────────────────────────────────┴────────────────────────┴───────────────┘\n"
      ]
     },
     "metadata": {},
     "output_type": "display_data"
    },
    {
     "data": {
      "text/html": [
       "<pre style=\"white-space:pre;overflow-x:auto;line-height:normal;font-family:Menlo,'DejaVu Sans Mono',consolas,'Courier New',monospace\"><span style=\"font-weight: bold\"> Total params: </span><span style=\"color: #00af00; text-decoration-color: #00af00\">221</span> (884.00 B)\n",
       "</pre>\n"
      ],
      "text/plain": [
       "\u001b[1m Total params: \u001b[0m\u001b[38;5;34m221\u001b[0m (884.00 B)\n"
      ]
     },
     "metadata": {},
     "output_type": "display_data"
    },
    {
     "data": {
      "text/html": [
       "<pre style=\"white-space:pre;overflow-x:auto;line-height:normal;font-family:Menlo,'DejaVu Sans Mono',consolas,'Courier New',monospace\"><span style=\"font-weight: bold\"> Trainable params: </span><span style=\"color: #00af00; text-decoration-color: #00af00\">221</span> (884.00 B)\n",
       "</pre>\n"
      ],
      "text/plain": [
       "\u001b[1m Trainable params: \u001b[0m\u001b[38;5;34m221\u001b[0m (884.00 B)\n"
      ]
     },
     "metadata": {},
     "output_type": "display_data"
    },
    {
     "data": {
      "text/html": [
       "<pre style=\"white-space:pre;overflow-x:auto;line-height:normal;font-family:Menlo,'DejaVu Sans Mono',consolas,'Courier New',monospace\"><span style=\"font-weight: bold\"> Non-trainable params: </span><span style=\"color: #00af00; text-decoration-color: #00af00\">0</span> (0.00 B)\n",
       "</pre>\n"
      ],
      "text/plain": [
       "\u001b[1m Non-trainable params: \u001b[0m\u001b[38;5;34m0\u001b[0m (0.00 B)\n"
      ]
     },
     "metadata": {},
     "output_type": "display_data"
    }
   ],
   "source": [
    "# Resumen del modelo\n",
    "print(\"\\nResumen del modelo:\")\n",
    "model.summary()"
   ]
  },
  {
   "cell_type": "code",
   "execution_count": 7,
   "id": "23051a69",
   "metadata": {},
   "outputs": [],
   "source": [
    "# Compilar el modelo\n",
    "model.compile(\n",
    "    loss='binary_crossentropy', \n",
    "    optimizer='adam',\n",
    "    metrics=['accuracy']\n",
    ")"
   ]
  },
  {
   "cell_type": "code",
   "execution_count": 8,
   "id": "d462287d",
   "metadata": {},
   "outputs": [
    {
     "name": "stdout",
     "output_type": "stream",
     "text": [
      "\n",
      "Iniciando entrenamiento...\n",
      "Epoch 1/75\n",
      "24/24 - 1s - 30ms/step - accuracy: 0.3490 - loss: 8.2071\n",
      "Epoch 2/75\n",
      "24/24 - 0s - 2ms/step - accuracy: 0.4896 - loss: 1.7347\n",
      "Epoch 3/75\n",
      "24/24 - 0s - 2ms/step - accuracy: 0.5742 - loss: 1.1906\n",
      "Epoch 4/75\n",
      "24/24 - 0s - 2ms/step - accuracy: 0.5677 - loss: 1.0682\n",
      "Epoch 5/75\n",
      "24/24 - 0s - 2ms/step - accuracy: 0.5586 - loss: 0.9810\n",
      "Epoch 6/75\n",
      "24/24 - 0s - 2ms/step - accuracy: 0.5755 - loss: 0.9320\n",
      "Epoch 7/75\n",
      "24/24 - 0s - 2ms/step - accuracy: 0.5781 - loss: 0.9039\n",
      "Epoch 8/75\n",
      "24/24 - 0s - 2ms/step - accuracy: 0.5872 - loss: 0.8697\n",
      "Epoch 9/75\n",
      "24/24 - 0s - 2ms/step - accuracy: 0.6081 - loss: 0.8674\n",
      "Epoch 10/75\n",
      "24/24 - 0s - 2ms/step - accuracy: 0.5872 - loss: 0.8526\n",
      "Epoch 11/75\n",
      "24/24 - 0s - 2ms/step - accuracy: 0.5924 - loss: 0.8235\n",
      "Epoch 12/75\n",
      "24/24 - 0s - 2ms/step - accuracy: 0.5938 - loss: 0.8057\n",
      "Epoch 13/75\n",
      "24/24 - 0s - 2ms/step - accuracy: 0.5924 - loss: 0.7986\n",
      "Epoch 14/75\n",
      "24/24 - 0s - 2ms/step - accuracy: 0.6068 - loss: 0.7956\n",
      "Epoch 15/75\n",
      "24/24 - 0s - 2ms/step - accuracy: 0.6185 - loss: 0.7755\n",
      "Epoch 16/75\n",
      "24/24 - 0s - 2ms/step - accuracy: 0.6276 - loss: 0.7267\n",
      "Epoch 17/75\n",
      "24/24 - 0s - 2ms/step - accuracy: 0.6445 - loss: 0.7025\n",
      "Epoch 18/75\n",
      "24/24 - 0s - 2ms/step - accuracy: 0.6432 - loss: 0.6865\n",
      "Epoch 19/75\n",
      "24/24 - 0s - 2ms/step - accuracy: 0.6445 - loss: 0.6865\n",
      "Epoch 20/75\n",
      "24/24 - 0s - 2ms/step - accuracy: 0.6458 - loss: 0.6748\n",
      "Epoch 21/75\n",
      "24/24 - 0s - 2ms/step - accuracy: 0.6432 - loss: 0.6714\n",
      "Epoch 22/75\n",
      "24/24 - 0s - 2ms/step - accuracy: 0.6523 - loss: 0.6609\n",
      "Epoch 23/75\n",
      "24/24 - 0s - 2ms/step - accuracy: 0.6523 - loss: 0.6584\n",
      "Epoch 24/75\n",
      "24/24 - 0s - 2ms/step - accuracy: 0.6562 - loss: 0.6516\n",
      "Epoch 25/75\n",
      "24/24 - 0s - 2ms/step - accuracy: 0.6484 - loss: 0.6473\n",
      "Epoch 26/75\n",
      "24/24 - 0s - 2ms/step - accuracy: 0.6641 - loss: 0.6497\n",
      "Epoch 27/75\n",
      "24/24 - 0s - 2ms/step - accuracy: 0.6641 - loss: 0.6386\n",
      "Epoch 28/75\n",
      "24/24 - 0s - 2ms/step - accuracy: 0.6654 - loss: 0.6353\n",
      "Epoch 29/75\n",
      "24/24 - 0s - 2ms/step - accuracy: 0.6615 - loss: 0.6311\n",
      "Epoch 30/75\n",
      "24/24 - 0s - 2ms/step - accuracy: 0.6680 - loss: 0.6295\n",
      "Epoch 31/75\n",
      "24/24 - 0s - 2ms/step - accuracy: 0.6719 - loss: 0.6264\n",
      "Epoch 32/75\n",
      "24/24 - 0s - 2ms/step - accuracy: 0.6706 - loss: 0.6260\n",
      "Epoch 33/75\n",
      "24/24 - 0s - 2ms/step - accuracy: 0.6797 - loss: 0.6213\n",
      "Epoch 34/75\n",
      "24/24 - 0s - 2ms/step - accuracy: 0.6823 - loss: 0.6188\n",
      "Epoch 35/75\n",
      "24/24 - 0s - 2ms/step - accuracy: 0.6810 - loss: 0.6152\n",
      "Epoch 36/75\n",
      "24/24 - 0s - 2ms/step - accuracy: 0.6823 - loss: 0.6200\n",
      "Epoch 37/75\n",
      "24/24 - 0s - 2ms/step - accuracy: 0.6797 - loss: 0.6159\n",
      "Epoch 38/75\n",
      "24/24 - 0s - 2ms/step - accuracy: 0.6927 - loss: 0.6130\n",
      "Epoch 39/75\n",
      "24/24 - 0s - 2ms/step - accuracy: 0.6784 - loss: 0.6158\n",
      "Epoch 40/75\n",
      "24/24 - 0s - 2ms/step - accuracy: 0.6953 - loss: 0.6032\n",
      "Epoch 41/75\n",
      "24/24 - 0s - 2ms/step - accuracy: 0.6875 - loss: 0.6026\n",
      "Epoch 42/75\n",
      "24/24 - 0s - 2ms/step - accuracy: 0.6901 - loss: 0.6030\n",
      "Epoch 43/75\n",
      "24/24 - 0s - 2ms/step - accuracy: 0.6953 - loss: 0.6053\n",
      "Epoch 44/75\n",
      "24/24 - 0s - 2ms/step - accuracy: 0.6953 - loss: 0.6099\n",
      "Epoch 45/75\n",
      "24/24 - 0s - 2ms/step - accuracy: 0.6836 - loss: 0.6054\n",
      "Epoch 46/75\n",
      "24/24 - 0s - 2ms/step - accuracy: 0.6823 - loss: 0.6096\n",
      "Epoch 47/75\n",
      "24/24 - 0s - 2ms/step - accuracy: 0.6901 - loss: 0.5975\n",
      "Epoch 48/75\n",
      "24/24 - 0s - 2ms/step - accuracy: 0.6992 - loss: 0.5924\n",
      "Epoch 49/75\n",
      "24/24 - 0s - 2ms/step - accuracy: 0.6992 - loss: 0.5904\n",
      "Epoch 50/75\n",
      "24/24 - 0s - 2ms/step - accuracy: 0.7109 - loss: 0.5905\n",
      "Epoch 51/75\n",
      "24/24 - 0s - 2ms/step - accuracy: 0.6992 - loss: 0.5892\n",
      "Epoch 52/75\n",
      "24/24 - 0s - 2ms/step - accuracy: 0.7031 - loss: 0.5842\n",
      "Epoch 53/75\n",
      "24/24 - 0s - 2ms/step - accuracy: 0.7005 - loss: 0.5824\n",
      "Epoch 54/75\n",
      "24/24 - 0s - 2ms/step - accuracy: 0.6979 - loss: 0.5847\n",
      "Epoch 55/75\n",
      "24/24 - 0s - 2ms/step - accuracy: 0.7214 - loss: 0.5800\n",
      "Epoch 56/75\n",
      "24/24 - 0s - 2ms/step - accuracy: 0.7096 - loss: 0.5813\n",
      "Epoch 57/75\n",
      "24/24 - 0s - 2ms/step - accuracy: 0.6979 - loss: 0.5787\n",
      "Epoch 58/75\n",
      "24/24 - 0s - 2ms/step - accuracy: 0.7044 - loss: 0.5729\n",
      "Epoch 59/75\n",
      "24/24 - 0s - 2ms/step - accuracy: 0.7122 - loss: 0.5771\n",
      "Epoch 60/75\n",
      "24/24 - 0s - 2ms/step - accuracy: 0.6992 - loss: 0.5803\n",
      "Epoch 61/75\n",
      "24/24 - 0s - 2ms/step - accuracy: 0.7161 - loss: 0.5730\n",
      "Epoch 62/75\n",
      "24/24 - 0s - 2ms/step - accuracy: 0.6992 - loss: 0.5745\n",
      "Epoch 63/75\n",
      "24/24 - 0s - 2ms/step - accuracy: 0.7214 - loss: 0.5705\n",
      "Epoch 64/75\n",
      "24/24 - 0s - 2ms/step - accuracy: 0.7005 - loss: 0.5712\n",
      "Epoch 65/75\n",
      "24/24 - 0s - 2ms/step - accuracy: 0.7044 - loss: 0.5659\n",
      "Epoch 66/75\n",
      "24/24 - 0s - 2ms/step - accuracy: 0.7031 - loss: 0.5707\n",
      "Epoch 67/75\n",
      "24/24 - 0s - 2ms/step - accuracy: 0.7122 - loss: 0.5641\n",
      "Epoch 68/75\n",
      "24/24 - 0s - 2ms/step - accuracy: 0.7266 - loss: 0.5626\n",
      "Epoch 69/75\n",
      "24/24 - 0s - 2ms/step - accuracy: 0.7201 - loss: 0.5649\n",
      "Epoch 70/75\n",
      "24/24 - 0s - 2ms/step - accuracy: 0.7266 - loss: 0.5689\n",
      "Epoch 71/75\n",
      "24/24 - 0s - 2ms/step - accuracy: 0.7227 - loss: 0.5583\n",
      "Epoch 72/75\n",
      "24/24 - 0s - 2ms/step - accuracy: 0.7188 - loss: 0.5617\n",
      "Epoch 73/75\n",
      "24/24 - 0s - 2ms/step - accuracy: 0.7031 - loss: 0.5615\n",
      "Epoch 74/75\n",
      "24/24 - 0s - 2ms/step - accuracy: 0.7135 - loss: 0.5610\n",
      "Epoch 75/75\n",
      "24/24 - 0s - 2ms/step - accuracy: 0.7135 - loss: 0.5607\n"
     ]
    }
   ],
   "source": [
    "# Entrenamiento del modelo\n",
    "print(\"\\nIniciando entrenamiento...\")\n",
    "historial = model.fit(\n",
    "    X, \n",
    "    y,\n",
    "    epochs=75,\n",
    "    verbose=2  # Corregido: verbose=2\n",
    ")"
   ]
  },
  {
   "cell_type": "code",
   "execution_count": 9,
   "id": "92d5e5a1",
   "metadata": {},
   "outputs": [
    {
     "data": {
      "text/plain": [
       "Text(0, 0.5, 'Pérdida')"
      ]
     },
     "execution_count": 9,
     "metadata": {},
     "output_type": "execute_result"
    },
    {
     "data": {
      "image/png": "[encoded data removed]",
      "text/plain": [
       "<Figure size 1200x400 with 1 Axes>"
      ]
     },
     "metadata": {},
     "output_type": "display_data"
    }
   ],
   "source": [
    "# Gráfica de pérdida\n",
    "plt.figure(figsize=(12, 4))\n",
    "plt.subplot(1, 2, 1)\n",
    "plt.plot(historial.history['loss'])\n",
    "plt.title('Pérdida durante el entrenamiento')\n",
    "plt.xlabel('Épocas')\n",
    "plt.ylabel('Pérdida')"
   ]
  },
  {
   "cell_type": "code",
   "execution_count": 10,
   "id": "3c46701e",
   "metadata": {},
   "outputs": [
    {
     "data": {
      "image/png": "[encoded data removed]",
      "text/plain": [
       "<Figure size 640x480 with 1 Axes>"
      ]
     },
     "metadata": {},
     "output_type": "display_data"
    }
   ],
   "source": [
    "# Gráfica de precisión\n",
    "plt.subplot(1, 2, 2)\n",
    "plt.plot(historial.history['accuracy'])\n",
    "plt.title('Precisión durante el entrenamiento')\n",
    "plt.xlabel('Épocas')\n",
    "plt.ylabel('Precisión')\n",
    "\n",
    "plt.tight_layout()\n",
    "plt.show()"
   ]
  },
  {
   "cell_type": "code",
   "execution_count": 11,
   "id": "89b663b8",
   "metadata": {},
   "outputs": [
    {
     "name": "stdout",
     "output_type": "stream",
     "text": [
      "\n",
      "Precisión final del modelo: 0.7135\n"
     ]
    }
   ],
   "source": [
    "# Evaluación final\n",
    "loss, accuracy = model.evaluate(X, y, verbose=0)\n",
    "print(f\"\\nPrecisión final del modelo: {accuracy:.4f}\")"
   ]
  },
  {
   "cell_type": "markdown",
   "id": "4180c334",
   "metadata": {},
   "source": [
    "## Práctica 4 HERRERA MACEDO KAROL MARILÚ 6IV8"
   ]
  }
 ],
 "metadata": {
  "kernelspec": {
   "display_name": "base",
   "language": "python",
   "name": "python3"
  },
  "language_info": {
   "codemirror_mode": {
    "name": "ipython",
    "version": 3
   },
   "file_extension": ".py",
   "mimetype": "text/x-python",
   "name": "python",
   "nbconvert_exporter": "python",
   "pygments_lexer": "ipython3",
   "version": "3.12.7"
  }
 },
 "nbformat": 4,
 "nbformat_minor": 5
}
